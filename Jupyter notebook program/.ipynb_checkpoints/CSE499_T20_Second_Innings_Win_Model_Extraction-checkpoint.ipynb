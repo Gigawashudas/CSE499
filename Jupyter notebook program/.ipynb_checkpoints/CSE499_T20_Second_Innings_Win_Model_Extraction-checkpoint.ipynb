{
 "cells": [
  {
   "cell_type": "code",
   "execution_count": 1,
   "id": "f30298de",
   "metadata": {},
   "outputs": [],
   "source": [
    "#Python Library\n",
    "import warnings\n",
    "warnings.filterwarnings(\"ignore\")\n",
    "\n",
    "import math\n",
    "import numpy as np\n",
    "import pandas as pd\n",
    "import pickle"
   ]
  },
  {
   "cell_type": "markdown",
   "id": "6b3a6a47",
   "metadata": {},
   "source": [
    "# ML Library"
   ]
  },
  {
   "cell_type": "code",
   "execution_count": 2,
   "id": "7dd676fc",
   "metadata": {},
   "outputs": [],
   "source": [
    "#ML Library\n",
    "from sklearn.compose import ColumnTransformer\n",
    "from sklearn.preprocessing import OneHotEncoder\n",
    "from sklearn.pipeline import Pipeline\n",
    "from sklearn.preprocessing import StandardScaler\n",
    "from sklearn.linear_model import LogisticRegression\n",
    "from sklearn.metrics import r2_score, mean_absolute_error, accuracy_score, confusion_matrix, classification_report\n",
    "\n",
    "from sklearn.model_selection import train_test_split"
   ]
  },
  {
   "cell_type": "markdown",
   "id": "db7d7670",
   "metadata": {},
   "source": [
    "# Load Dataset"
   ]
  },
  {
   "cell_type": "code",
   "execution_count": 4,
   "id": "fa0d322c",
   "metadata": {
    "scrolled": true
   },
   "outputs": [
    {
     "data": {
      "text/html": [
       "<div>\n",
       "<style scoped>\n",
       "    .dataframe tbody tr th:only-of-type {\n",
       "        vertical-align: middle;\n",
       "    }\n",
       "\n",
       "    .dataframe tbody tr th {\n",
       "        vertical-align: top;\n",
       "    }\n",
       "\n",
       "    .dataframe thead th {\n",
       "        text-align: right;\n",
       "    }\n",
       "</style>\n",
       "<table border=\"1\" class=\"dataframe\">\n",
       "  <thead>\n",
       "    <tr style=\"text-align: right;\">\n",
       "      <th></th>\n",
       "      <th>batting_team</th>\n",
       "      <th>bowling_team</th>\n",
       "      <th>city</th>\n",
       "      <th>runs_left</th>\n",
       "      <th>balls_left</th>\n",
       "      <th>wickets_left</th>\n",
       "      <th>target_runs</th>\n",
       "      <th>crr</th>\n",
       "      <th>rrr</th>\n",
       "      <th>result</th>\n",
       "    </tr>\n",
       "  </thead>\n",
       "  <tbody>\n",
       "    <tr>\n",
       "      <th>0</th>\n",
       "      <td>Sri Lanka</td>\n",
       "      <td>Australia</td>\n",
       "      <td>Melbourne</td>\n",
       "      <td>168</td>\n",
       "      <td>119</td>\n",
       "      <td>10</td>\n",
       "      <td>169</td>\n",
       "      <td>6.0</td>\n",
       "      <td>8.47</td>\n",
       "      <td>1</td>\n",
       "    </tr>\n",
       "    <tr>\n",
       "      <th>1</th>\n",
       "      <td>Sri Lanka</td>\n",
       "      <td>Australia</td>\n",
       "      <td>Melbourne</td>\n",
       "      <td>167</td>\n",
       "      <td>118</td>\n",
       "      <td>10</td>\n",
       "      <td>169</td>\n",
       "      <td>6.0</td>\n",
       "      <td>8.49</td>\n",
       "      <td>1</td>\n",
       "    </tr>\n",
       "    <tr>\n",
       "      <th>2</th>\n",
       "      <td>Sri Lanka</td>\n",
       "      <td>Australia</td>\n",
       "      <td>Melbourne</td>\n",
       "      <td>167</td>\n",
       "      <td>117</td>\n",
       "      <td>10</td>\n",
       "      <td>169</td>\n",
       "      <td>4.0</td>\n",
       "      <td>8.56</td>\n",
       "      <td>1</td>\n",
       "    </tr>\n",
       "    <tr>\n",
       "      <th>3</th>\n",
       "      <td>Sri Lanka</td>\n",
       "      <td>Australia</td>\n",
       "      <td>Melbourne</td>\n",
       "      <td>167</td>\n",
       "      <td>116</td>\n",
       "      <td>10</td>\n",
       "      <td>169</td>\n",
       "      <td>3.0</td>\n",
       "      <td>8.64</td>\n",
       "      <td>1</td>\n",
       "    </tr>\n",
       "    <tr>\n",
       "      <th>4</th>\n",
       "      <td>Sri Lanka</td>\n",
       "      <td>Australia</td>\n",
       "      <td>Melbourne</td>\n",
       "      <td>164</td>\n",
       "      <td>115</td>\n",
       "      <td>10</td>\n",
       "      <td>169</td>\n",
       "      <td>6.0</td>\n",
       "      <td>8.56</td>\n",
       "      <td>1</td>\n",
       "    </tr>\n",
       "  </tbody>\n",
       "</table>\n",
       "</div>"
      ],
      "text/plain": [
       "  batting_team bowling_team       city  runs_left  balls_left  wickets_left  \\\n",
       "0    Sri Lanka    Australia  Melbourne        168         119            10   \n",
       "1    Sri Lanka    Australia  Melbourne        167         118            10   \n",
       "2    Sri Lanka    Australia  Melbourne        167         117            10   \n",
       "3    Sri Lanka    Australia  Melbourne        167         116            10   \n",
       "4    Sri Lanka    Australia  Melbourne        164         115            10   \n",
       "\n",
       "   target_runs  crr   rrr  result  \n",
       "0          169  6.0  8.47       1  \n",
       "1          169  6.0  8.49       1  \n",
       "2          169  4.0  8.56       1  \n",
       "3          169  3.0  8.64       1  \n",
       "4          169  6.0  8.56       1  "
      ]
     },
     "execution_count": 4,
     "metadata": {},
     "output_type": "execute_result"
    }
   ],
   "source": [
    "#load data\n",
    "second_innings_win_portability_df = pickle.load(open('t20_international_mens_second_innings_win.pkl','rb'))\n",
    "second_innings_win_portability_df.head()"
   ]
  },
  {
   "cell_type": "markdown",
   "id": "bfe81562",
   "metadata": {},
   "source": [
    "# Test and Train Split"
   ]
  },
  {
   "cell_type": "code",
   "execution_count": 6,
   "id": "39e581cd",
   "metadata": {},
   "outputs": [],
   "source": [
    "#Split\n",
    "X2 = second_innings_win_portability_df.drop(columns=['result'])\n",
    "y2 = second_innings_win_portability_df['result'].values\n",
    "\n",
    "X2_train,X2_test,y2_train,y2_test = train_test_split(X2, y2, test_size=0.2, random_state=1)"
   ]
  },
  {
   "cell_type": "code",
   "execution_count": 7,
   "id": "4d2f5b36",
   "metadata": {},
   "outputs": [
    {
     "data": {
      "text/html": [
       "<div>\n",
       "<style scoped>\n",
       "    .dataframe tbody tr th:only-of-type {\n",
       "        vertical-align: middle;\n",
       "    }\n",
       "\n",
       "    .dataframe tbody tr th {\n",
       "        vertical-align: top;\n",
       "    }\n",
       "\n",
       "    .dataframe thead th {\n",
       "        text-align: right;\n",
       "    }\n",
       "</style>\n",
       "<table border=\"1\" class=\"dataframe\">\n",
       "  <thead>\n",
       "    <tr style=\"text-align: right;\">\n",
       "      <th></th>\n",
       "      <th>batting_team</th>\n",
       "      <th>bowling_team</th>\n",
       "      <th>city</th>\n",
       "      <th>runs_left</th>\n",
       "      <th>balls_left</th>\n",
       "      <th>wickets_left</th>\n",
       "      <th>target_runs</th>\n",
       "      <th>crr</th>\n",
       "      <th>rrr</th>\n",
       "    </tr>\n",
       "  </thead>\n",
       "  <tbody>\n",
       "    <tr>\n",
       "      <th>7613</th>\n",
       "      <td>Afghanistan</td>\n",
       "      <td>Zimbabwe</td>\n",
       "      <td>Sharjah</td>\n",
       "      <td>79</td>\n",
       "      <td>87</td>\n",
       "      <td>8</td>\n",
       "      <td>121</td>\n",
       "      <td>7.64</td>\n",
       "      <td>5.45</td>\n",
       "    </tr>\n",
       "    <tr>\n",
       "      <th>4913</th>\n",
       "      <td>New Zealand</td>\n",
       "      <td>Pakistan</td>\n",
       "      <td>Mount Maunganui</td>\n",
       "      <td>129</td>\n",
       "      <td>71</td>\n",
       "      <td>9</td>\n",
       "      <td>182</td>\n",
       "      <td>6.49</td>\n",
       "      <td>10.90</td>\n",
       "    </tr>\n",
       "    <tr>\n",
       "      <th>1775</th>\n",
       "      <td>United Arab Emirates</td>\n",
       "      <td>Afghanistan</td>\n",
       "      <td>Dubai</td>\n",
       "      <td>41</td>\n",
       "      <td>21</td>\n",
       "      <td>5</td>\n",
       "      <td>162</td>\n",
       "      <td>7.33</td>\n",
       "      <td>11.71</td>\n",
       "    </tr>\n",
       "    <tr>\n",
       "      <th>27127</th>\n",
       "      <td>West Indies</td>\n",
       "      <td>South Africa</td>\n",
       "      <td>St George's</td>\n",
       "      <td>85</td>\n",
       "      <td>49</td>\n",
       "      <td>7</td>\n",
       "      <td>169</td>\n",
       "      <td>7.10</td>\n",
       "      <td>10.41</td>\n",
       "    </tr>\n",
       "    <tr>\n",
       "      <th>6468</th>\n",
       "      <td>Scotland</td>\n",
       "      <td>Pakistan</td>\n",
       "      <td>Edinburgh</td>\n",
       "      <td>130</td>\n",
       "      <td>77</td>\n",
       "      <td>6</td>\n",
       "      <td>167</td>\n",
       "      <td>5.16</td>\n",
       "      <td>10.13</td>\n",
       "    </tr>\n",
       "    <tr>\n",
       "      <th>...</th>\n",
       "      <td>...</td>\n",
       "      <td>...</td>\n",
       "      <td>...</td>\n",
       "      <td>...</td>\n",
       "      <td>...</td>\n",
       "      <td>...</td>\n",
       "      <td>...</td>\n",
       "      <td>...</td>\n",
       "      <td>...</td>\n",
       "    </tr>\n",
       "    <tr>\n",
       "      <th>50248</th>\n",
       "      <td>England</td>\n",
       "      <td>Pakistan</td>\n",
       "      <td>Karachi</td>\n",
       "      <td>144</td>\n",
       "      <td>108</td>\n",
       "      <td>10</td>\n",
       "      <td>159</td>\n",
       "      <td>7.50</td>\n",
       "      <td>8.00</td>\n",
       "    </tr>\n",
       "    <tr>\n",
       "      <th>98418</th>\n",
       "      <td>Zimbabwe</td>\n",
       "      <td>Afghanistan</td>\n",
       "      <td>Sharjah</td>\n",
       "      <td>92</td>\n",
       "      <td>18</td>\n",
       "      <td>2</td>\n",
       "      <td>216</td>\n",
       "      <td>7.29</td>\n",
       "      <td>30.67</td>\n",
       "    </tr>\n",
       "    <tr>\n",
       "      <th>5213</th>\n",
       "      <td>India</td>\n",
       "      <td>England</td>\n",
       "      <td>Manchester</td>\n",
       "      <td>16</td>\n",
       "      <td>21</td>\n",
       "      <td>8</td>\n",
       "      <td>160</td>\n",
       "      <td>8.73</td>\n",
       "      <td>4.57</td>\n",
       "    </tr>\n",
       "    <tr>\n",
       "      <th>77997</th>\n",
       "      <td>New Zealand</td>\n",
       "      <td>West Indies</td>\n",
       "      <td>Lauderhill</td>\n",
       "      <td>107</td>\n",
       "      <td>44</td>\n",
       "      <td>4</td>\n",
       "      <td>178</td>\n",
       "      <td>5.61</td>\n",
       "      <td>14.59</td>\n",
       "    </tr>\n",
       "    <tr>\n",
       "      <th>98912</th>\n",
       "      <td>Oman</td>\n",
       "      <td>United Arab Emirates</td>\n",
       "      <td>Mirpur</td>\n",
       "      <td>72</td>\n",
       "      <td>1</td>\n",
       "      <td>2</td>\n",
       "      <td>173</td>\n",
       "      <td>5.09</td>\n",
       "      <td>432.00</td>\n",
       "    </tr>\n",
       "  </tbody>\n",
       "</table>\n",
       "<p>80055 rows × 9 columns</p>\n",
       "</div>"
      ],
      "text/plain": [
       "               batting_team          bowling_team             city  runs_left  \\\n",
       "7613            Afghanistan              Zimbabwe          Sharjah         79   \n",
       "4913            New Zealand              Pakistan  Mount Maunganui        129   \n",
       "1775   United Arab Emirates           Afghanistan            Dubai         41   \n",
       "27127           West Indies          South Africa      St George's         85   \n",
       "6468               Scotland              Pakistan        Edinburgh        130   \n",
       "...                     ...                   ...              ...        ...   \n",
       "50248               England              Pakistan          Karachi        144   \n",
       "98418              Zimbabwe           Afghanistan          Sharjah         92   \n",
       "5213                  India               England       Manchester         16   \n",
       "77997           New Zealand           West Indies       Lauderhill        107   \n",
       "98912                  Oman  United Arab Emirates           Mirpur         72   \n",
       "\n",
       "       balls_left  wickets_left  target_runs   crr     rrr  \n",
       "7613           87             8          121  7.64    5.45  \n",
       "4913           71             9          182  6.49   10.90  \n",
       "1775           21             5          162  7.33   11.71  \n",
       "27127          49             7          169  7.10   10.41  \n",
       "6468           77             6          167  5.16   10.13  \n",
       "...           ...           ...          ...   ...     ...  \n",
       "50248         108            10          159  7.50    8.00  \n",
       "98418          18             2          216  7.29   30.67  \n",
       "5213           21             8          160  8.73    4.57  \n",
       "77997          44             4          178  5.61   14.59  \n",
       "98912           1             2          173  5.09  432.00  \n",
       "\n",
       "[80055 rows x 9 columns]"
      ]
     },
     "execution_count": 7,
     "metadata": {},
     "output_type": "execute_result"
    }
   ],
   "source": [
    "#Display\n",
    "X2_train"
   ]
  },
  {
   "cell_type": "code",
   "execution_count": 8,
   "id": "3f2ddda7",
   "metadata": {},
   "outputs": [],
   "source": [
    "#Column Transformation\n",
    "trf2 = ColumnTransformer([\n",
    "    ('trf2', OneHotEncoder(sparse=False, drop='first'),['batting_team', 'bowling_team', 'city'])\n",
    "]\n",
    ",remainder='passthrough')"
   ]
  },
  {
   "cell_type": "code",
   "execution_count": 9,
   "id": "10b43b82",
   "metadata": {},
   "outputs": [],
   "source": [
    "#Pipeline\n",
    "pipe2 = Pipeline(steps=[\n",
    "    ('step1',trf2),\n",
    "    ('step2',LogisticRegression(solver='liblinear'))\n",
    "])"
   ]
  },
  {
   "cell_type": "code",
   "execution_count": 10,
   "id": "2f537907",
   "metadata": {},
   "outputs": [
    {
     "data": {
      "text/html": [
       "<style>#sk-container-id-1 {color: black;background-color: white;}#sk-container-id-1 pre{padding: 0;}#sk-container-id-1 div.sk-toggleable {background-color: white;}#sk-container-id-1 label.sk-toggleable__label {cursor: pointer;display: block;width: 100%;margin-bottom: 0;padding: 0.3em;box-sizing: border-box;text-align: center;}#sk-container-id-1 label.sk-toggleable__label-arrow:before {content: \"▸\";float: left;margin-right: 0.25em;color: #696969;}#sk-container-id-1 label.sk-toggleable__label-arrow:hover:before {color: black;}#sk-container-id-1 div.sk-estimator:hover label.sk-toggleable__label-arrow:before {color: black;}#sk-container-id-1 div.sk-toggleable__content {max-height: 0;max-width: 0;overflow: hidden;text-align: left;background-color: #f0f8ff;}#sk-container-id-1 div.sk-toggleable__content pre {margin: 0.2em;color: black;border-radius: 0.25em;background-color: #f0f8ff;}#sk-container-id-1 input.sk-toggleable__control:checked~div.sk-toggleable__content {max-height: 200px;max-width: 100%;overflow: auto;}#sk-container-id-1 input.sk-toggleable__control:checked~label.sk-toggleable__label-arrow:before {content: \"▾\";}#sk-container-id-1 div.sk-estimator input.sk-toggleable__control:checked~label.sk-toggleable__label {background-color: #d4ebff;}#sk-container-id-1 div.sk-label input.sk-toggleable__control:checked~label.sk-toggleable__label {background-color: #d4ebff;}#sk-container-id-1 input.sk-hidden--visually {border: 0;clip: rect(1px 1px 1px 1px);clip: rect(1px, 1px, 1px, 1px);height: 1px;margin: -1px;overflow: hidden;padding: 0;position: absolute;width: 1px;}#sk-container-id-1 div.sk-estimator {font-family: monospace;background-color: #f0f8ff;border: 1px dotted black;border-radius: 0.25em;box-sizing: border-box;margin-bottom: 0.5em;}#sk-container-id-1 div.sk-estimator:hover {background-color: #d4ebff;}#sk-container-id-1 div.sk-parallel-item::after {content: \"\";width: 100%;border-bottom: 1px solid gray;flex-grow: 1;}#sk-container-id-1 div.sk-label:hover label.sk-toggleable__label {background-color: #d4ebff;}#sk-container-id-1 div.sk-serial::before {content: \"\";position: absolute;border-left: 1px solid gray;box-sizing: border-box;top: 0;bottom: 0;left: 50%;z-index: 0;}#sk-container-id-1 div.sk-serial {display: flex;flex-direction: column;align-items: center;background-color: white;padding-right: 0.2em;padding-left: 0.2em;position: relative;}#sk-container-id-1 div.sk-item {position: relative;z-index: 1;}#sk-container-id-1 div.sk-parallel {display: flex;align-items: stretch;justify-content: center;background-color: white;position: relative;}#sk-container-id-1 div.sk-item::before, #sk-container-id-1 div.sk-parallel-item::before {content: \"\";position: absolute;border-left: 1px solid gray;box-sizing: border-box;top: 0;bottom: 0;left: 50%;z-index: -1;}#sk-container-id-1 div.sk-parallel-item {display: flex;flex-direction: column;z-index: 1;position: relative;background-color: white;}#sk-container-id-1 div.sk-parallel-item:first-child::after {align-self: flex-end;width: 50%;}#sk-container-id-1 div.sk-parallel-item:last-child::after {align-self: flex-start;width: 50%;}#sk-container-id-1 div.sk-parallel-item:only-child::after {width: 0;}#sk-container-id-1 div.sk-dashed-wrapped {border: 1px dashed gray;margin: 0 0.4em 0.5em 0.4em;box-sizing: border-box;padding-bottom: 0.4em;background-color: white;}#sk-container-id-1 div.sk-label label {font-family: monospace;font-weight: bold;display: inline-block;line-height: 1.2em;}#sk-container-id-1 div.sk-label-container {text-align: center;}#sk-container-id-1 div.sk-container {/* jupyter's `normalize.less` sets `[hidden] { display: none; }` but bootstrap.min.css set `[hidden] { display: none !important; }` so we also need the `!important` here to be able to override the default hidden behavior on the sphinx rendered scikit-learn.org. See: https://github.com/scikit-learn/scikit-learn/issues/21755 */display: inline-block !important;position: relative;}#sk-container-id-1 div.sk-text-repr-fallback {display: none;}</style><div id=\"sk-container-id-1\" class=\"sk-top-container\"><div class=\"sk-text-repr-fallback\"><pre>Pipeline(steps=[(&#x27;step1&#x27;,\n",
       "                 ColumnTransformer(remainder=&#x27;passthrough&#x27;,\n",
       "                                   transformers=[(&#x27;trf2&#x27;,\n",
       "                                                  OneHotEncoder(drop=&#x27;first&#x27;,\n",
       "                                                                sparse=False),\n",
       "                                                  [&#x27;batting_team&#x27;,\n",
       "                                                   &#x27;bowling_team&#x27;, &#x27;city&#x27;])])),\n",
       "                (&#x27;step2&#x27;, LogisticRegression(solver=&#x27;liblinear&#x27;))])</pre><b>In a Jupyter environment, please rerun this cell to show the HTML representation or trust the notebook. <br />On GitHub, the HTML representation is unable to render, please try loading this page with nbviewer.org.</b></div><div class=\"sk-container\" hidden><div class=\"sk-item sk-dashed-wrapped\"><div class=\"sk-label-container\"><div class=\"sk-label sk-toggleable\"><input class=\"sk-toggleable__control sk-hidden--visually\" id=\"sk-estimator-id-1\" type=\"checkbox\" ><label for=\"sk-estimator-id-1\" class=\"sk-toggleable__label sk-toggleable__label-arrow\">Pipeline</label><div class=\"sk-toggleable__content\"><pre>Pipeline(steps=[(&#x27;step1&#x27;,\n",
       "                 ColumnTransformer(remainder=&#x27;passthrough&#x27;,\n",
       "                                   transformers=[(&#x27;trf2&#x27;,\n",
       "                                                  OneHotEncoder(drop=&#x27;first&#x27;,\n",
       "                                                                sparse=False),\n",
       "                                                  [&#x27;batting_team&#x27;,\n",
       "                                                   &#x27;bowling_team&#x27;, &#x27;city&#x27;])])),\n",
       "                (&#x27;step2&#x27;, LogisticRegression(solver=&#x27;liblinear&#x27;))])</pre></div></div></div><div class=\"sk-serial\"><div class=\"sk-item sk-dashed-wrapped\"><div class=\"sk-label-container\"><div class=\"sk-label sk-toggleable\"><input class=\"sk-toggleable__control sk-hidden--visually\" id=\"sk-estimator-id-2\" type=\"checkbox\" ><label for=\"sk-estimator-id-2\" class=\"sk-toggleable__label sk-toggleable__label-arrow\">step1: ColumnTransformer</label><div class=\"sk-toggleable__content\"><pre>ColumnTransformer(remainder=&#x27;passthrough&#x27;,\n",
       "                  transformers=[(&#x27;trf2&#x27;,\n",
       "                                 OneHotEncoder(drop=&#x27;first&#x27;, sparse=False),\n",
       "                                 [&#x27;batting_team&#x27;, &#x27;bowling_team&#x27;, &#x27;city&#x27;])])</pre></div></div></div><div class=\"sk-parallel\"><div class=\"sk-parallel-item\"><div class=\"sk-item\"><div class=\"sk-label-container\"><div class=\"sk-label sk-toggleable\"><input class=\"sk-toggleable__control sk-hidden--visually\" id=\"sk-estimator-id-3\" type=\"checkbox\" ><label for=\"sk-estimator-id-3\" class=\"sk-toggleable__label sk-toggleable__label-arrow\">trf2</label><div class=\"sk-toggleable__content\"><pre>[&#x27;batting_team&#x27;, &#x27;bowling_team&#x27;, &#x27;city&#x27;]</pre></div></div></div><div class=\"sk-serial\"><div class=\"sk-item\"><div class=\"sk-estimator sk-toggleable\"><input class=\"sk-toggleable__control sk-hidden--visually\" id=\"sk-estimator-id-4\" type=\"checkbox\" ><label for=\"sk-estimator-id-4\" class=\"sk-toggleable__label sk-toggleable__label-arrow\">OneHotEncoder</label><div class=\"sk-toggleable__content\"><pre>OneHotEncoder(drop=&#x27;first&#x27;, sparse=False)</pre></div></div></div></div></div></div><div class=\"sk-parallel-item\"><div class=\"sk-item\"><div class=\"sk-label-container\"><div class=\"sk-label sk-toggleable\"><input class=\"sk-toggleable__control sk-hidden--visually\" id=\"sk-estimator-id-5\" type=\"checkbox\" ><label for=\"sk-estimator-id-5\" class=\"sk-toggleable__label sk-toggleable__label-arrow\">remainder</label><div class=\"sk-toggleable__content\"><pre>[&#x27;runs_left&#x27;, &#x27;balls_left&#x27;, &#x27;wickets_left&#x27;, &#x27;target_runs&#x27;, &#x27;crr&#x27;, &#x27;rrr&#x27;]</pre></div></div></div><div class=\"sk-serial\"><div class=\"sk-item\"><div class=\"sk-estimator sk-toggleable\"><input class=\"sk-toggleable__control sk-hidden--visually\" id=\"sk-estimator-id-6\" type=\"checkbox\" ><label for=\"sk-estimator-id-6\" class=\"sk-toggleable__label sk-toggleable__label-arrow\">passthrough</label><div class=\"sk-toggleable__content\"><pre>passthrough</pre></div></div></div></div></div></div></div></div><div class=\"sk-item\"><div class=\"sk-estimator sk-toggleable\"><input class=\"sk-toggleable__control sk-hidden--visually\" id=\"sk-estimator-id-7\" type=\"checkbox\" ><label for=\"sk-estimator-id-7\" class=\"sk-toggleable__label sk-toggleable__label-arrow\">LogisticRegression</label><div class=\"sk-toggleable__content\"><pre>LogisticRegression(solver=&#x27;liblinear&#x27;)</pre></div></div></div></div></div></div></div>"
      ],
      "text/plain": [
       "Pipeline(steps=[('step1',\n",
       "                 ColumnTransformer(remainder='passthrough',\n",
       "                                   transformers=[('trf2',\n",
       "                                                  OneHotEncoder(drop='first',\n",
       "                                                                sparse=False),\n",
       "                                                  ['batting_team',\n",
       "                                                   'bowling_team', 'city'])])),\n",
       "                ('step2', LogisticRegression(solver='liblinear'))])"
      ]
     },
     "execution_count": 10,
     "metadata": {},
     "output_type": "execute_result"
    }
   ],
   "source": [
    "#Train Model\n",
    "pipe2.fit(X2_train,y2_train)"
   ]
  },
  {
   "cell_type": "code",
   "execution_count": 18,
   "id": "a46aff62",
   "metadata": {},
   "outputs": [
    {
     "data": {
      "text/plain": [
       "array([0.32274732, 0.67725268])"
      ]
     },
     "execution_count": 18,
     "metadata": {},
     "output_type": "execute_result"
    }
   ],
   "source": [
    "pipe2.predict_proba(X2_test)[10]"
   ]
  },
  {
   "cell_type": "code",
   "execution_count": 11,
   "id": "3ab1bbe1",
   "metadata": {},
   "outputs": [],
   "source": [
    "#Accuracy on test data\n",
    "y2_pred = pipe2.predict(X2_test)"
   ]
  },
  {
   "cell_type": "code",
   "execution_count": 13,
   "id": "eb4c4f20",
   "metadata": {},
   "outputs": [
    {
     "data": {
      "text/plain": [
       "array([[9306, 1418],\n",
       "       [1399, 7891]], dtype=int64)"
      ]
     },
     "execution_count": 13,
     "metadata": {},
     "output_type": "execute_result"
    }
   ],
   "source": [
    "#Confusion Matrix\n",
    "confusion_matrix(y2_test, y2_pred)"
   ]
  },
  {
   "cell_type": "code",
   "execution_count": 15,
   "id": "30571a45",
   "metadata": {},
   "outputs": [
    {
     "name": "stdout",
     "output_type": "stream",
     "text": [
      "              precision    recall  f1-score   support\n",
      "\n",
      "           0       0.87      0.87      0.87     10724\n",
      "           1       0.85      0.85      0.85      9290\n",
      "\n",
      "    accuracy                           0.86     20014\n",
      "   macro avg       0.86      0.86      0.86     20014\n",
      "weighted avg       0.86      0.86      0.86     20014\n",
      "\n"
     ]
    }
   ],
   "source": [
    "#Classiffication Report\n",
    "print(classification_report(y2_test, y2_pred))"
   ]
  },
  {
   "cell_type": "markdown",
   "id": "37dfb016",
   "metadata": {},
   "source": [
    "# Result Prediction"
   ]
  },
  {
   "cell_type": "code",
   "execution_count": 20,
   "id": "22a6fb1b",
   "metadata": {},
   "outputs": [
    {
     "name": "stdout",
     "output_type": "stream",
     "text": [
      "win: 39%\n",
      "loss: 61%\n"
     ]
    }
   ],
   "source": [
    "#Prediction\n",
    "result = pipe2.predict_proba(pd.DataFrame([['Australia', 'Sri Lanka', 'Melbourne', 100, 69, 7, 169, 8.11, 8.69]], columns=['batting_team', 'bowling_team', 'city', 'runs_left', 'balls_left', 'wickets_left', 'target_runs', 'crr', 'rrr']))\n",
    "\n",
    "loss = result[0][0]\n",
    "win = result[0][1]\n",
    "\n",
    "print('win: '+str(round(win*100))+'%')\n",
    "print('loss: '+str(round(loss*100))+'%')"
   ]
  },
  {
   "cell_type": "markdown",
   "id": "c4934cc9",
   "metadata": {},
   "source": [
    "# Model Extraction"
   ]
  },
  {
   "cell_type": "code",
   "execution_count": null,
   "id": "c93bdfc8",
   "metadata": {},
   "outputs": [],
   "source": [
    "#Model Extraction\n",
    "pickle.dump(pipe2, open('tournament_name_second_innings_final_model.pkl','wb'))"
   ]
  }
 ],
 "metadata": {
  "kernelspec": {
   "display_name": "Python 3 (ipykernel)",
   "language": "python",
   "name": "python3"
  },
  "language_info": {
   "codemirror_mode": {
    "name": "ipython",
    "version": 3
   },
   "file_extension": ".py",
   "mimetype": "text/x-python",
   "name": "python",
   "nbconvert_exporter": "python",
   "pygments_lexer": "ipython3",
   "version": "3.10.9"
  }
 },
 "nbformat": 4,
 "nbformat_minor": 5
}
