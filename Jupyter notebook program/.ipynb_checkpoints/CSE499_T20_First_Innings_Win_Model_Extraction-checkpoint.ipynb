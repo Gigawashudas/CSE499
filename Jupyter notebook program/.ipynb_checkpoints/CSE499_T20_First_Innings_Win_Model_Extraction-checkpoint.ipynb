{
 "cells": [
  {
   "cell_type": "code",
   "execution_count": 1,
   "id": "59dc929a",
   "metadata": {},
   "outputs": [],
   "source": [
    "#Python Library\n",
    "import warnings\n",
    "warnings.filterwarnings(\"ignore\")\n",
    "import math\n",
    "import numpy as np\n",
    "import pandas as pd\n",
    "import pickle"
   ]
  },
  {
   "cell_type": "markdown",
   "id": "86b7920f",
   "metadata": {},
   "source": [
    "# ML Library"
   ]
  },
  {
   "cell_type": "code",
   "execution_count": null,
   "id": "365cbf33",
   "metadata": {},
   "outputs": [],
   "source": [
    "#ML Library\n",
    "from sklearn.compose import ColumnTransformer\n",
    "from sklearn.preprocessing import OneHotEncoder\n",
    "from sklearn.pipeline import Pipeline\n",
    "from sklearn.preprocessing import StandardScaler\n",
    "from sklearn.linear_model import LogisticRegression\n",
    "from sklearn.metrics import r2_score, mean_absolute_error, accuracy_score, confusion_matrix, classification_report\n",
    "\n",
    "from sklearn.model_selection import train_test_split"
   ]
  },
  {
   "cell_type": "code",
   "execution_count": null,
   "id": "f76ec14a",
   "metadata": {},
   "outputs": [],
   "source": [
    "#load data\n",
    "first_innings_win_portability_df = pickle.load(open('file_name.pkl','rb'))\n",
    "first_innings_win_portability_df.head()"
   ]
  },
  {
   "cell_type": "markdown",
   "id": "de568aea",
   "metadata": {},
   "source": [
    "# Test and Train Split"
   ]
  },
  {
   "cell_type": "code",
   "execution_count": null,
   "id": "e66e06af",
   "metadata": {},
   "outputs": [],
   "source": [
    "#Split\n",
    "X1 = first_innings_win_portability_df.drop(columns=['result_first_innings'])\n",
    "y1 = first_innings_win_portability_df['result_first_innings'].values\n",
    "\n",
    "X1_train,X1_test,y1_train,y1_test = train_test_split(X1, y1, test_size=0.2, random_state=1)#0.2=20%"
   ]
  },
  {
   "cell_type": "code",
   "execution_count": null,
   "id": "09123425",
   "metadata": {},
   "outputs": [],
   "source": [
    "#Display\n",
    "X1_train\n",
    "\n",
    "#Column Transformations \n",
    "trf1 = ColumnTransformer([\n",
    "    ('trf1', OneHotEncoder(sparse=False, drop='first'),['batting_team', 'bowling_team', 'city'])\n",
    "]\n",
    ",remainder='passthrough')"
   ]
  },
  {
   "cell_type": "code",
   "execution_count": null,
   "id": "418c68be",
   "metadata": {},
   "outputs": [],
   "source": [
    "#PipeLine\n",
    "pipe1 = Pipeline(steps=[\n",
    "    ('step1',trf1),\n",
    "    ('step2', LogisticRegression(solver='liblinear'))\n",
    "])"
   ]
  },
  {
   "cell_type": "code",
   "execution_count": null,
   "id": "d410b533",
   "metadata": {},
   "outputs": [],
   "source": [
    "#Train Model\n",
    "pipe1.fit(X1_train, y1_train)"
   ]
  },
  {
   "cell_type": "code",
   "execution_count": null,
   "id": "8b9729d2",
   "metadata": {},
   "outputs": [],
   "source": [
    "#Accuracy Score\n",
    "y1_pred = pipe1.predict(X1_test)"
   ]
  },
  {
   "cell_type": "code",
   "execution_count": null,
   "id": "b59877db",
   "metadata": {},
   "outputs": [],
   "source": [
    "#Confusion Matrix\n",
    "confusion_matrix(y1_test, y1_pred)"
   ]
  },
  {
   "cell_type": "code",
   "execution_count": null,
   "id": "75b9941e",
   "metadata": {},
   "outputs": [],
   "source": [
    "#Classiffication Report\n",
    "print(classification_report(y1_test, y1_pred))"
   ]
  },
  {
   "cell_type": "code",
   "execution_count": null,
   "id": "f8ebc422",
   "metadata": {},
   "outputs": [],
   "source": [
    "#Result Prediction\n",
    "result = pipe1.predict_proba(pd.DataFrame([['Australia', 'Sri Lanka', 'Melbourne', 170]], columns=['batting_team', 'bowling_team', 'city', 'runs_y']))\n",
    "\n",
    "loss = result[0][1]\n",
    "win = result[0][0]\n",
    "\n",
    "print('win: '+str(round(win*100))+'%')\n",
    "print('loss: '+str(round(loss*100))+'%')"
   ]
  },
  {
   "cell_type": "code",
   "execution_count": null,
   "id": "5ae32b99",
   "metadata": {},
   "outputs": [],
   "source": [
    "#Model Extraction\n",
    "pickle.dump(pipe1, open('tournament_name_first_innings_final_model.pkl','wb'))"
   ]
  }
 ],
 "metadata": {
  "kernelspec": {
   "display_name": "Python 3 (ipykernel)",
   "language": "python",
   "name": "python3"
  },
  "language_info": {
   "codemirror_mode": {
    "name": "ipython",
    "version": 3
   },
   "file_extension": ".py",
   "mimetype": "text/x-python",
   "name": "python",
   "nbconvert_exporter": "python",
   "pygments_lexer": "ipython3",
   "version": "3.10.9"
  }
 },
 "nbformat": 4,
 "nbformat_minor": 5
}
